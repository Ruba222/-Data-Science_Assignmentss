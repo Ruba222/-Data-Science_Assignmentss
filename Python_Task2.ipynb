{
 "cells": [
  {
   "cell_type": "markdown",
   "id": "65f83eb8",
   "metadata": {},
   "source": [
    "### 7. Write a program that creates a list of 10 random integers. Then create two lists by name odd_list and even_list that have all odd and even values of the list respectively."
   ]
  },
  {
   "cell_type": "code",
   "execution_count": 2,
   "id": "58da8dcf-fd8e-4571-8ef0-b1bc404b7909",
   "metadata": {},
   "outputs": [
    {
     "name": "stdin",
     "output_type": "stream",
     "text": [
      "enter number: 1\n",
      "enter number: 2\n",
      "enter number: 3\n",
      "enter number: 4\n",
      "enter number: 5\n",
      "enter number: 6\n",
      "enter number: 7\n",
      "enter number: 8\n",
      "enter number: 9\n",
      "enter number: 99\n"
     ]
    },
    {
     "name": "stdout",
     "output_type": "stream",
     "text": [
      "[2, 4, 6, 8]\n",
      "[1, 3, 5, 7, 9, 99]\n"
     ]
    }
   ],
   "source": [
    "x = []\n",
    "for i in range (10) :\n",
    "    y = int(input(\"enter number:\"))\n",
    "    x.append(y)\n",
    "\n",
    "odd_list = []\n",
    "even_list = []\n",
    "for i in x:\n",
    "    if i % 2 == 0:\n",
    "        even_list.append(i)\n",
    "    else:\n",
    "        odd_list.append(i)\n",
    "print(even_list)\n",
    "print(odd_list)"
   ]
  },
  {
   "cell_type": "markdown",
   "id": "4a15aceb",
   "metadata": {},
   "source": [
    "### 9. Create a dictionary that contains usernames as the key and passwords as the associated values. Make up the data for five dictionary entries and demonstrate the use of clear and fromkeys() methods."
   ]
  },
  {
   "cell_type": "code",
   "execution_count": 13,
   "id": "77fe171c-2d99-4c64-8b71-690a1857aa9c",
   "metadata": {},
   "outputs": [
    {
     "data": {
      "text/plain": [
       "{}"
      ]
     },
     "execution_count": 13,
     "metadata": {},
     "output_type": "execute_result"
    }
   ],
   "source": [
    "dict = {\n",
    "    \"ruba\" : 123,\n",
    "    \"aseel\" : 321,\n",
    "    \"suaad\" : 213,\n",
    "    \"hanaa\" : 312 \n",
    "}\n",
    "dict\n",
    "dict.clear()\n",
    "dict"
   ]
  },
  {
   "cell_type": "code",
   "execution_count": 4,
   "id": "081a1e7e-8f87-4d49-bc62-f400816f56c4",
   "metadata": {},
   "outputs": [
    {
     "data": {
      "text/plain": [
       "{'salma': 111, 'sara': 111, 'shahd': 111, 'dan': 111}"
      ]
     },
     "execution_count": 4,
     "metadata": {},
     "output_type": "execute_result"
    }
   ],
   "source": [
    "dict = {\n",
    "    \"ruba\" : 123,\n",
    "    \"aseel\" : 321,\n",
    "    \"suaad\" : 213,\n",
    "    \"hanaa\" : 312 \n",
    "}\n",
    "\n",
    "keys = [\"salma\",\"sara\",\"shahd\",\"dan\"]\n",
    "dict.fromkeys(keys,111)\n"
   ]
  },
  {
   "cell_type": "markdown",
   "id": "1fd26ad0",
   "metadata": {},
   "source": [
    "### 11. Write a program to unpack a tuple to several variables."
   ]
  },
  {
   "cell_type": "code",
   "execution_count": 65,
   "id": "1c5228e9-938d-4d54-b34d-54b9f54a0ba1",
   "metadata": {},
   "outputs": [
    {
     "name": "stdout",
     "output_type": "stream",
     "text": [
      "(1, 2, 3, 4, 5)\n",
      "(6, 7, 8, 9, 99)\n"
     ]
    }
   ],
   "source": [
    "mytupl = (1,2,3,4,5,6,7,8,9,99)\n",
    "tupl1 = mytupl[:5]\n",
    "tupl2 = mytupl[5:90]\n",
    "\n",
    "print(tupl1)\n",
    "print(tupl2)"
   ]
  },
  {
   "cell_type": "markdown",
   "id": "21a6b4a8",
   "metadata": {},
   "source": [
    "### 17. Write a program to clear a set."
   ]
  },
  {
   "cell_type": "code",
   "execution_count": 47,
   "id": "cbe26895-be78-4a55-9eb7-de9d2fd1e34e",
   "metadata": {},
   "outputs": [
    {
     "name": "stdout",
     "output_type": "stream",
     "text": [
      "set()\n"
     ]
    }
   ],
   "source": [
    "myset = {1,2,3,4}\n",
    "while myset:\n",
    "     myset.pop()\n",
    "print(myset)"
   ]
  },
  {
   "cell_type": "markdown",
   "id": "2b8e3ae3",
   "metadata": {},
   "source": [
    "### 12. Write a program that prints the maximum value of the second half of the list."
   ]
  },
  {
   "cell_type": "code",
   "execution_count": 10,
   "id": "956ca1e3",
   "metadata": {},
   "outputs": [
    {
     "name": "stdout",
     "output_type": "stream",
     "text": [
      "66\n"
     ]
    }
   ],
   "source": [
    "x = [1,222,3,6,5,7,8,9,66,5,4,3]\n",
    "i = len(x) // 2\n",
    "y = x[i:90]\n",
    "print(max(y))"
   ]
  },
  {
   "cell_type": "code",
   "execution_count": null,
   "id": "af0bfaaa-fd72-41c3-bb7a-fd268068c9ea",
   "metadata": {},
   "outputs": [],
   "source": []
  }
 ],
 "metadata": {
  "kernelspec": {
   "display_name": "Python 3 (ipykernel)",
   "language": "python",
   "name": "python3"
  },
  "language_info": {
   "codemirror_mode": {
    "name": "ipython",
    "version": 3
   },
   "file_extension": ".py",
   "mimetype": "text/x-python",
   "name": "python",
   "nbconvert_exporter": "python",
   "pygments_lexer": "ipython3",
   "version": "3.12.4"
  }
 },
 "nbformat": 4,
 "nbformat_minor": 5
}
