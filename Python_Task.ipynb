{
 "cells": [
  {
   "cell_type": "markdown",
   "id": "b9572589",
   "metadata": {},
   "source": [
    "Question:\n",
    "Write a Python function that takes a number as input and returns \"Even\" if the number is even, and \"Odd\" if the number is odd."
   ]
  },
  {
   "cell_type": "code",
   "execution_count": 1,
   "id": "3fdc577e",
   "metadata": {},
   "outputs": [
    {
     "name": "stdin",
     "output_type": "stream",
     "text": [
      "enter a number 8\n"
     ]
    },
    {
     "name": "stdout",
     "output_type": "stream",
     "text": [
      "Even\n"
     ]
    }
   ],
   "source": [
    "def fun1():\n",
    "\n",
    "   x = int(input(\"enter a number\"))\n",
    "   if x % 2 == 0:\n",
    "      print(\"Even\")\n",
    "   else:\n",
    "      print(\"Odd\")\n",
    "fun1();"
   ]
  },
  {
   "cell_type": "markdown",
   "id": "776aa860",
   "metadata": {},
   "source": [
    "Question:\n",
    "Write a Python function that takes a string as input and returns the length of the string."
   ]
  },
  {
   "cell_type": "code",
   "execution_count": 4,
   "id": "f1b74617",
   "metadata": {},
   "outputs": [
    {
     "name": "stdin",
     "output_type": "stream",
     "text": [
      "write a string 8\n"
     ]
    },
    {
     "name": "stdout",
     "output_type": "stream",
     "text": [
      "1\n"
     ]
    }
   ],
   "source": [
    "def fun2():\n",
    "   x = str(input(\"write a string\"))\n",
    "   print(len(x))\n",
    "fun2();\n",
    "        "
   ]
  },
  {
   "cell_type": "markdown",
   "id": "3b231d92",
   "metadata": {},
   "source": [
    "Question:\n",
    "Write a Python function that takes a list of numbers as input and returns a new list containing only the positive numbers from the original list."
   ]
  },
  {
   "cell_type": "code",
   "execution_count": 14,
   "id": "08c02c44",
   "metadata": {},
   "outputs": [
    {
     "name": "stdin",
     "output_type": "stream",
     "text": [
      "Enter numbers separated by commas:  1,2,-3,4\n"
     ]
    },
    {
     "name": "stdout",
     "output_type": "stream",
     "text": [
      "Positive numbers: [1, 2, 4]\n"
     ]
    }
   ],
   "source": [
    "def fun3():\n",
    "    x = input(\"Enter numbers separated by commas: \").split(\",\")  # Get input and split it\n",
    "    res = []\n",
    "\n",
    "    for num in x:\n",
    "        try:\n",
    "            val = int(num)  # Convert each to integer\n",
    "            if val > 0:\n",
    "                res.append(val)\n",
    "        except ValueError:\n",
    "            print(f\"'{num}' is not a valid number. Skipping.\")\n",
    "\n",
    "    return res\n",
    "\n",
    "result = fun3()\n",
    "print(\"Positive numbers:\", result)\n",
    "\n"
   ]
  },
  {
   "cell_type": "code",
   "execution_count": 16,
   "id": "b3fbf149-5405-4aa1-8260-0c32e65a5084",
   "metadata": {},
   "outputs": [
    {
     "name": "stdin",
     "output_type": "stream",
     "text": [
      "enter numbers 1,2,3\n"
     ]
    },
    {
     "ename": "ValueError",
     "evalue": "invalid literal for int() with base 10: '1,2,3'",
     "output_type": "error",
     "traceback": [
      "\u001b[1;31m---------------------------------------------------------------------------\u001b[0m",
      "\u001b[1;31mValueError\u001b[0m                                Traceback (most recent call last)",
      "Cell \u001b[1;32mIn[16], line 19\u001b[0m\n\u001b[0;32m     13\u001b[0m            \u001b[38;5;28;01mcontinue\u001b[39;00m\n\u001b[0;32m     14\u001b[0m         \u001b[38;5;28;01mreturn\u001b[39;00m res;\n\u001b[1;32m---> 19\u001b[0m fun3()\n",
      "Cell \u001b[1;32mIn[16], line 3\u001b[0m, in \u001b[0;36mfun3\u001b[1;34m()\u001b[0m\n\u001b[0;32m      1\u001b[0m \u001b[38;5;28;01mdef\u001b[39;00m \u001b[38;5;21mfun3\u001b[39m():\n\u001b[1;32m----> 3\u001b[0m     x \u001b[38;5;241m=\u001b[39m \u001b[38;5;28mlist\u001b[39m(\u001b[38;5;28mint\u001b[39m (\u001b[38;5;28minput\u001b[39m(\u001b[38;5;124m\"\u001b[39m\u001b[38;5;124menter numbers\u001b[39m\u001b[38;5;124m\"\u001b[39m)))\u001b[38;5;241m.\u001b[39msplit(\u001b[38;5;124m\"\u001b[39m\u001b[38;5;124m,\u001b[39m\u001b[38;5;124m\"\u001b[39m)\n\u001b[0;32m      4\u001b[0m     i \u001b[38;5;241m=\u001b[39m \u001b[38;5;241m0\u001b[39m\n\u001b[0;32m      5\u001b[0m     res \u001b[38;5;241m=\u001b[39m[]\n",
      "\u001b[1;31mValueError\u001b[0m: invalid literal for int() with base 10: '1,2,3'"
     ]
    }
   ],
   "source": [
    "def fun3():\n",
    "\n",
    "    x = list(int (input(\"enter numbers\"))).split(\",\")\n",
    "    i = 0\n",
    "    res =[]\n",
    "    y = len(x)\n",
    "    while y > 0 :\n",
    "        if x[i] > 0 :\n",
    "            res.append(x[i])\n",
    "            i = i + 1\n",
    "            y = y - 1\n",
    "        else: \n",
    "           continue\n",
    "        return res;\n",
    "      \n",
    "\n",
    "    \n",
    "\n",
    "fun3();\n",
    "\n"
   ]
  },
  {
   "cell_type": "code",
   "execution_count": 18,
   "id": "44fd395b-3c24-411d-a4bd-a8831f53bd56",
   "metadata": {},
   "outputs": [
    {
     "data": {
      "text/plain": [
       "[5, 6, 7]"
      ]
     },
     "execution_count": 18,
     "metadata": {},
     "output_type": "execute_result"
    }
   ],
   "source": [
    "def positive(numbers):\n",
    "    return[num for num in numbers if num > 0]\n",
    "\n",
    "positive([5,6,7,-5])\n"
   ]
  },
  {
   "cell_type": "code",
   "execution_count": null,
   "id": "960583b5-fc59-457d-8341-71082485fdb5",
   "metadata": {},
   "outputs": [],
   "source": [
    "\n",
    "def fun3():\n",
    "\n",
    "    x = input(\"Enter numbers separated by commas: \").split(\",\")\n",
    "    \n",
    "   \n",
    "    x = [int(num) for num in x]\n",
    "    \n",
    "    i = 0\n",
    "    res = []\n",
    "    y = len(x)\n",
    "    \n",
    "    while y > 0:\n",
    "        if x[i] > 0:\n",
    "            res.append(x[i])\n",
    "        i = i  + 1\n",
    "        y = y -  1\n",
    "        \n",
    "    return res\n",
    "\n",
    "\n",
    "result = fun3()\n",
    "print(\"Positive numbers:\", result)\n",
    "\n",
    "\n",
    "\n",
    "\n",
    "\n",
    "\n",
    "\n",
    "\n",
    "\n",
    "\n",
    "\n",
    "\n",
    "\n",
    "\n",
    "\n",
    "\n",
    "\n"
   ]
  },
  {
   "cell_type": "code",
   "execution_count": null,
   "id": "9f620acc-c6c1-4385-a1d5-20d6664a23c3",
   "metadata": {},
   "outputs": [],
   "source": []
  },
  {
   "cell_type": "code",
   "execution_count": null,
   "id": "37d42d99-1a8a-485c-8f3c-acc46f22f916",
   "metadata": {},
   "outputs": [],
   "source": []
  }
 ],
 "metadata": {
  "kernelspec": {
   "display_name": "Python 3 (ipykernel)",
   "language": "python",
   "name": "python3"
  },
  "language_info": {
   "codemirror_mode": {
    "name": "ipython",
    "version": 3
   },
   "file_extension": ".py",
   "mimetype": "text/x-python",
   "name": "python",
   "nbconvert_exporter": "python",
   "pygments_lexer": "ipython3",
   "version": "3.12.4"
  }
 },
 "nbformat": 4,
 "nbformat_minor": 5
}
